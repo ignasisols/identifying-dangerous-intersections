{
  "nbformat": 4,
  "nbformat_minor": 0,
  "metadata": {
    "colab": {
      "name": "roundabouts_pandas.ipynb",
      "provenance": [],
      "collapsed_sections": []
    },
    "kernelspec": {
      "name": "python3",
      "display_name": "Python 3"
    },
    "language_info": {
      "name": "python"
    }
  },
  "cells": [
    {
      "cell_type": "code",
      "execution_count": 520,
      "metadata": {
        "id": "d_mcyQh6hNdr"
      },
      "outputs": [],
      "source": [
        "import pandas as pd\n",
        "import numpy as np"
      ]
    },
    {
      "cell_type": "markdown",
      "source": [
        "## Load data"
      ],
      "metadata": {
        "id": "whPerk7bhvzS"
      }
    },
    {
      "cell_type": "code",
      "source": [
        "accidents_kaggle  = pd.read_csv('US_Accidents_Dec20_updated_Kaggle.csv')"
      ],
      "metadata": {
        "id": "6H-cuGcsh64Y"
      },
      "execution_count": 522,
      "outputs": []
    },
    {
      "cell_type": "code",
      "source": [
        "fatalities_2016  = pd.read_csv('nhtsa_accidents_fatalities_2016.csv')\n",
        "# fatalities_2017  = pd.read_csv('nhtsa_accidents_fatalities_2017.csv')\n",
        "# fatalities_2018  = pd.read_csv('nhtsa_accidents_fatalities_2018.csv')\n",
        "# fatalities_2019  = pd.read_csv('nhtsa_accidents_fatalities_2019.csv')"
      ],
      "metadata": {
        "id": "wixgLoeOiJpH"
      },
      "execution_count": 523,
      "outputs": []
    },
    {
      "cell_type": "code",
      "source": [
        "fatalities_2016.head()"
      ],
      "metadata": {
        "colab": {
          "base_uri": "https://localhost:8080/",
          "height": 508
        },
        "id": "G13vw6ifC4AR",
        "outputId": "0a5b5233-8479-499d-842e-96db01cb188c"
      },
      "execution_count": 543,
      "outputs": [
        {
          "output_type": "execute_result",
          "data": {
            "text/html": [
              "<div>\n",
              "<style scoped>\n",
              "    .dataframe tbody tr th:only-of-type {\n",
              "        vertical-align: middle;\n",
              "    }\n",
              "\n",
              "    .dataframe tbody tr th {\n",
              "        vertical-align: top;\n",
              "    }\n",
              "\n",
              "    .dataframe thead th {\n",
              "        text-align: right;\n",
              "    }\n",
              "</style>\n",
              "<table border=\"1\" class=\"dataframe\">\n",
              "  <thead>\n",
              "    <tr style=\"text-align: right;\">\n",
              "      <th></th>\n",
              "      <th>STATE</th>\n",
              "      <th>STATENAME</th>\n",
              "      <th>ST_CASE</th>\n",
              "      <th>VE_TOTAL</th>\n",
              "      <th>VE_FORMS</th>\n",
              "      <th>PVH_INVL</th>\n",
              "      <th>PEDS</th>\n",
              "      <th>PERSONS</th>\n",
              "      <th>PERMVIT</th>\n",
              "      <th>PERNOTMVIT</th>\n",
              "      <th>COUNTY</th>\n",
              "      <th>COUNTYNAME</th>\n",
              "      <th>CITY</th>\n",
              "      <th>CITYNAME</th>\n",
              "      <th>DAY</th>\n",
              "      <th>DAYNAME</th>\n",
              "      <th>MONTH</th>\n",
              "      <th>MONTHNAME</th>\n",
              "      <th>YEAR</th>\n",
              "      <th>DAY_WEEK</th>\n",
              "      <th>DAY_WEEKNAME</th>\n",
              "      <th>HOUR</th>\n",
              "      <th>HOURNAME</th>\n",
              "      <th>MINUTE</th>\n",
              "      <th>MINUTENAME</th>\n",
              "      <th>NHS</th>\n",
              "      <th>NHSNAME</th>\n",
              "      <th>ROUTE</th>\n",
              "      <th>ROUTENAME</th>\n",
              "      <th>TWAY_ID</th>\n",
              "      <th>TWAY_ID2</th>\n",
              "      <th>RUR_URB</th>\n",
              "      <th>RUR_URBNAME</th>\n",
              "      <th>FUNC_SYS</th>\n",
              "      <th>FUNC_SYSNAME</th>\n",
              "      <th>RD_OWNER</th>\n",
              "      <th>RD_OWNERNAME</th>\n",
              "      <th>MILEPT</th>\n",
              "      <th>MILEPTNAME</th>\n",
              "      <th>LATITUDE</th>\n",
              "      <th>...</th>\n",
              "      <th>RELJCT2</th>\n",
              "      <th>RELJCT2NAME</th>\n",
              "      <th>TYP_INT</th>\n",
              "      <th>TYP_INTNAME</th>\n",
              "      <th>WRK_ZONE</th>\n",
              "      <th>WRK_ZONENAME</th>\n",
              "      <th>REL_ROAD</th>\n",
              "      <th>REL_ROADNAME</th>\n",
              "      <th>LGT_COND</th>\n",
              "      <th>LGT_CONDNAME</th>\n",
              "      <th>WEATHER1</th>\n",
              "      <th>WEATHER1NAME</th>\n",
              "      <th>WEATHER2</th>\n",
              "      <th>WEATHER2NAME</th>\n",
              "      <th>WEATHER</th>\n",
              "      <th>WEATHERNAME</th>\n",
              "      <th>SCH_BUS</th>\n",
              "      <th>SCH_BUSNAME</th>\n",
              "      <th>RAIL</th>\n",
              "      <th>RAILNAME</th>\n",
              "      <th>NOT_HOUR</th>\n",
              "      <th>NOT_HOURNAME</th>\n",
              "      <th>NOT_MIN</th>\n",
              "      <th>NOT_MINNAME</th>\n",
              "      <th>ARR_HOUR</th>\n",
              "      <th>ARR_HOURNAME</th>\n",
              "      <th>ARR_MIN</th>\n",
              "      <th>ARR_MINNAME</th>\n",
              "      <th>HOSP_HR</th>\n",
              "      <th>HOSP_HRNAME</th>\n",
              "      <th>HOSP_MN</th>\n",
              "      <th>HOSP_MNNAME</th>\n",
              "      <th>CF1</th>\n",
              "      <th>CF1NAME</th>\n",
              "      <th>CF2</th>\n",
              "      <th>CF2NAME</th>\n",
              "      <th>CF3</th>\n",
              "      <th>CF3NAME</th>\n",
              "      <th>FATALS</th>\n",
              "      <th>DRUNK_DR</th>\n",
              "    </tr>\n",
              "  </thead>\n",
              "  <tbody>\n",
              "    <tr>\n",
              "      <th>0</th>\n",
              "      <td>1</td>\n",
              "      <td>Alabama</td>\n",
              "      <td>10001</td>\n",
              "      <td>1</td>\n",
              "      <td>1</td>\n",
              "      <td>0</td>\n",
              "      <td>0</td>\n",
              "      <td>1</td>\n",
              "      <td>1</td>\n",
              "      <td>0</td>\n",
              "      <td>73</td>\n",
              "      <td>JEFFERSON (73)</td>\n",
              "      <td>1716</td>\n",
              "      <td>HOOVER</td>\n",
              "      <td>1</td>\n",
              "      <td>1</td>\n",
              "      <td>1</td>\n",
              "      <td>January</td>\n",
              "      <td>2016</td>\n",
              "      <td>6</td>\n",
              "      <td>Friday</td>\n",
              "      <td>9</td>\n",
              "      <td>9:00am-9:59am</td>\n",
              "      <td>25</td>\n",
              "      <td>25</td>\n",
              "      <td>1</td>\n",
              "      <td>This section IS ON the NHS</td>\n",
              "      <td>1</td>\n",
              "      <td>Interstate</td>\n",
              "      <td>I-65</td>\n",
              "      <td>NaN</td>\n",
              "      <td>2</td>\n",
              "      <td>Urban</td>\n",
              "      <td>1</td>\n",
              "      <td>Interstate</td>\n",
              "      <td>1</td>\n",
              "      <td>State Highway Agency</td>\n",
              "      <td>2530</td>\n",
              "      <td>2530</td>\n",
              "      <td>33.426458</td>\n",
              "      <td>...</td>\n",
              "      <td>1</td>\n",
              "      <td>Non-Junction</td>\n",
              "      <td>1</td>\n",
              "      <td>Not an Intersection</td>\n",
              "      <td>0</td>\n",
              "      <td>None</td>\n",
              "      <td>5</td>\n",
              "      <td>Outside Trafficway</td>\n",
              "      <td>1</td>\n",
              "      <td>Daylight</td>\n",
              "      <td>1</td>\n",
              "      <td>Clear</td>\n",
              "      <td>0</td>\n",
              "      <td>No Additional Atmospheric Conditions</td>\n",
              "      <td>1</td>\n",
              "      <td>Clear</td>\n",
              "      <td>0</td>\n",
              "      <td>No</td>\n",
              "      <td>0000000</td>\n",
              "      <td>Not Applicable</td>\n",
              "      <td>9</td>\n",
              "      <td>9:00am-9:59am</td>\n",
              "      <td>31</td>\n",
              "      <td>31</td>\n",
              "      <td>9</td>\n",
              "      <td>9:00am-9:59am</td>\n",
              "      <td>36</td>\n",
              "      <td>36</td>\n",
              "      <td>88</td>\n",
              "      <td>Not Applicable (Not Transported)</td>\n",
              "      <td>88</td>\n",
              "      <td>Not Applicable (Not Transported)</td>\n",
              "      <td>0</td>\n",
              "      <td>None</td>\n",
              "      <td>0</td>\n",
              "      <td>None</td>\n",
              "      <td>0</td>\n",
              "      <td>None</td>\n",
              "      <td>1</td>\n",
              "      <td>1</td>\n",
              "    </tr>\n",
              "    <tr>\n",
              "      <th>1</th>\n",
              "      <td>1</td>\n",
              "      <td>Alabama</td>\n",
              "      <td>10002</td>\n",
              "      <td>1</td>\n",
              "      <td>1</td>\n",
              "      <td>0</td>\n",
              "      <td>0</td>\n",
              "      <td>2</td>\n",
              "      <td>2</td>\n",
              "      <td>0</td>\n",
              "      <td>73</td>\n",
              "      <td>JEFFERSON (73)</td>\n",
              "      <td>1716</td>\n",
              "      <td>HOOVER</td>\n",
              "      <td>10</td>\n",
              "      <td>10</td>\n",
              "      <td>1</td>\n",
              "      <td>January</td>\n",
              "      <td>2016</td>\n",
              "      <td>1</td>\n",
              "      <td>Sunday</td>\n",
              "      <td>19</td>\n",
              "      <td>7:00pm-7:59pm</td>\n",
              "      <td>59</td>\n",
              "      <td>59</td>\n",
              "      <td>1</td>\n",
              "      <td>This section IS ON the NHS</td>\n",
              "      <td>1</td>\n",
              "      <td>Interstate</td>\n",
              "      <td>I-65</td>\n",
              "      <td>I-459 RAMP</td>\n",
              "      <td>2</td>\n",
              "      <td>Urban</td>\n",
              "      <td>1</td>\n",
              "      <td>Interstate</td>\n",
              "      <td>1</td>\n",
              "      <td>State Highway Agency</td>\n",
              "      <td>2500</td>\n",
              "      <td>2500</td>\n",
              "      <td>33.400306</td>\n",
              "      <td>...</td>\n",
              "      <td>5</td>\n",
              "      <td>Entrance/Exit Ramp Related</td>\n",
              "      <td>1</td>\n",
              "      <td>Not an Intersection</td>\n",
              "      <td>0</td>\n",
              "      <td>None</td>\n",
              "      <td>4</td>\n",
              "      <td>On Roadside</td>\n",
              "      <td>3</td>\n",
              "      <td>Dark - Lighted</td>\n",
              "      <td>1</td>\n",
              "      <td>Clear</td>\n",
              "      <td>0</td>\n",
              "      <td>No Additional Atmospheric Conditions</td>\n",
              "      <td>1</td>\n",
              "      <td>Clear</td>\n",
              "      <td>0</td>\n",
              "      <td>No</td>\n",
              "      <td>0000000</td>\n",
              "      <td>Not Applicable</td>\n",
              "      <td>99</td>\n",
              "      <td>Unknown</td>\n",
              "      <td>99</td>\n",
              "      <td>Unknown</td>\n",
              "      <td>20</td>\n",
              "      <td>8:00pm-8:59pm</td>\n",
              "      <td>5</td>\n",
              "      <td>5</td>\n",
              "      <td>99</td>\n",
              "      <td>Unknown</td>\n",
              "      <td>99</td>\n",
              "      <td>Unknown EMS Hospital Arrival Time</td>\n",
              "      <td>0</td>\n",
              "      <td>None</td>\n",
              "      <td>0</td>\n",
              "      <td>None</td>\n",
              "      <td>0</td>\n",
              "      <td>None</td>\n",
              "      <td>1</td>\n",
              "      <td>1</td>\n",
              "    </tr>\n",
              "    <tr>\n",
              "      <th>2</th>\n",
              "      <td>1</td>\n",
              "      <td>Alabama</td>\n",
              "      <td>10003</td>\n",
              "      <td>2</td>\n",
              "      <td>1</td>\n",
              "      <td>1</td>\n",
              "      <td>0</td>\n",
              "      <td>2</td>\n",
              "      <td>1</td>\n",
              "      <td>1</td>\n",
              "      <td>73</td>\n",
              "      <td>JEFFERSON (73)</td>\n",
              "      <td>0</td>\n",
              "      <td>NOT APPLICABLE</td>\n",
              "      <td>1</td>\n",
              "      <td>1</td>\n",
              "      <td>1</td>\n",
              "      <td>January</td>\n",
              "      <td>2016</td>\n",
              "      <td>6</td>\n",
              "      <td>Friday</td>\n",
              "      <td>2</td>\n",
              "      <td>2:00am-2:59am</td>\n",
              "      <td>20</td>\n",
              "      <td>20</td>\n",
              "      <td>1</td>\n",
              "      <td>This section IS ON the NHS</td>\n",
              "      <td>1</td>\n",
              "      <td>Interstate</td>\n",
              "      <td>I-59</td>\n",
              "      <td>NaN</td>\n",
              "      <td>2</td>\n",
              "      <td>Urban</td>\n",
              "      <td>1</td>\n",
              "      <td>Interstate</td>\n",
              "      <td>1</td>\n",
              "      <td>State Highway Agency</td>\n",
              "      <td>1417</td>\n",
              "      <td>1417</td>\n",
              "      <td>33.649244</td>\n",
              "      <td>...</td>\n",
              "      <td>1</td>\n",
              "      <td>Non-Junction</td>\n",
              "      <td>1</td>\n",
              "      <td>Not an Intersection</td>\n",
              "      <td>0</td>\n",
              "      <td>None</td>\n",
              "      <td>4</td>\n",
              "      <td>On Roadside</td>\n",
              "      <td>3</td>\n",
              "      <td>Dark - Lighted</td>\n",
              "      <td>10</td>\n",
              "      <td>Cloudy</td>\n",
              "      <td>0</td>\n",
              "      <td>No Additional Atmospheric Conditions</td>\n",
              "      <td>10</td>\n",
              "      <td>Cloudy</td>\n",
              "      <td>0</td>\n",
              "      <td>No</td>\n",
              "      <td>0000000</td>\n",
              "      <td>Not Applicable</td>\n",
              "      <td>99</td>\n",
              "      <td>Unknown</td>\n",
              "      <td>99</td>\n",
              "      <td>Unknown</td>\n",
              "      <td>2</td>\n",
              "      <td>2:00am-2:59am</td>\n",
              "      <td>31</td>\n",
              "      <td>31</td>\n",
              "      <td>88</td>\n",
              "      <td>Not Applicable (Not Transported)</td>\n",
              "      <td>88</td>\n",
              "      <td>Not Applicable (Not Transported)</td>\n",
              "      <td>0</td>\n",
              "      <td>None</td>\n",
              "      <td>0</td>\n",
              "      <td>None</td>\n",
              "      <td>0</td>\n",
              "      <td>None</td>\n",
              "      <td>1</td>\n",
              "      <td>0</td>\n",
              "    </tr>\n",
              "    <tr>\n",
              "      <th>3</th>\n",
              "      <td>1</td>\n",
              "      <td>Alabama</td>\n",
              "      <td>10004</td>\n",
              "      <td>1</td>\n",
              "      <td>1</td>\n",
              "      <td>0</td>\n",
              "      <td>0</td>\n",
              "      <td>1</td>\n",
              "      <td>1</td>\n",
              "      <td>0</td>\n",
              "      <td>73</td>\n",
              "      <td>JEFFERSON (73)</td>\n",
              "      <td>0</td>\n",
              "      <td>NOT APPLICABLE</td>\n",
              "      <td>17</td>\n",
              "      <td>17</td>\n",
              "      <td>1</td>\n",
              "      <td>January</td>\n",
              "      <td>2016</td>\n",
              "      <td>1</td>\n",
              "      <td>Sunday</td>\n",
              "      <td>21</td>\n",
              "      <td>9:00pm-9:59pm</td>\n",
              "      <td>45</td>\n",
              "      <td>45</td>\n",
              "      <td>1</td>\n",
              "      <td>This section IS ON the NHS</td>\n",
              "      <td>1</td>\n",
              "      <td>Interstate</td>\n",
              "      <td>I-65</td>\n",
              "      <td>NaN</td>\n",
              "      <td>2</td>\n",
              "      <td>Urban</td>\n",
              "      <td>1</td>\n",
              "      <td>Interstate</td>\n",
              "      <td>1</td>\n",
              "      <td>State Highway Agency</td>\n",
              "      <td>2543</td>\n",
              "      <td>2543</td>\n",
              "      <td>33.429956</td>\n",
              "      <td>...</td>\n",
              "      <td>1</td>\n",
              "      <td>Non-Junction</td>\n",
              "      <td>1</td>\n",
              "      <td>Not an Intersection</td>\n",
              "      <td>0</td>\n",
              "      <td>None</td>\n",
              "      <td>3</td>\n",
              "      <td>On Median</td>\n",
              "      <td>3</td>\n",
              "      <td>Dark - Lighted</td>\n",
              "      <td>1</td>\n",
              "      <td>Clear</td>\n",
              "      <td>0</td>\n",
              "      <td>No Additional Atmospheric Conditions</td>\n",
              "      <td>1</td>\n",
              "      <td>Clear</td>\n",
              "      <td>0</td>\n",
              "      <td>No</td>\n",
              "      <td>0000000</td>\n",
              "      <td>Not Applicable</td>\n",
              "      <td>99</td>\n",
              "      <td>Unknown</td>\n",
              "      <td>99</td>\n",
              "      <td>Unknown</td>\n",
              "      <td>21</td>\n",
              "      <td>9:00pm-9:59pm</td>\n",
              "      <td>57</td>\n",
              "      <td>57</td>\n",
              "      <td>99</td>\n",
              "      <td>Unknown</td>\n",
              "      <td>99</td>\n",
              "      <td>Unknown EMS Hospital Arrival Time</td>\n",
              "      <td>0</td>\n",
              "      <td>None</td>\n",
              "      <td>0</td>\n",
              "      <td>None</td>\n",
              "      <td>0</td>\n",
              "      <td>None</td>\n",
              "      <td>1</td>\n",
              "      <td>1</td>\n",
              "    </tr>\n",
              "    <tr>\n",
              "      <th>4</th>\n",
              "      <td>1</td>\n",
              "      <td>Alabama</td>\n",
              "      <td>10005</td>\n",
              "      <td>1</td>\n",
              "      <td>1</td>\n",
              "      <td>0</td>\n",
              "      <td>0</td>\n",
              "      <td>1</td>\n",
              "      <td>1</td>\n",
              "      <td>0</td>\n",
              "      <td>73</td>\n",
              "      <td>JEFFERSON (73)</td>\n",
              "      <td>3125</td>\n",
              "      <td>VESTAVIA HILLS</td>\n",
              "      <td>26</td>\n",
              "      <td>26</td>\n",
              "      <td>1</td>\n",
              "      <td>January</td>\n",
              "      <td>2016</td>\n",
              "      <td>3</td>\n",
              "      <td>Tuesday</td>\n",
              "      <td>20</td>\n",
              "      <td>8:00pm-8:59pm</td>\n",
              "      <td>7</td>\n",
              "      <td>7</td>\n",
              "      <td>1</td>\n",
              "      <td>This section IS ON the NHS</td>\n",
              "      <td>1</td>\n",
              "      <td>Interstate</td>\n",
              "      <td>I-65</td>\n",
              "      <td>NaN</td>\n",
              "      <td>2</td>\n",
              "      <td>Urban</td>\n",
              "      <td>1</td>\n",
              "      <td>Interstate</td>\n",
              "      <td>1</td>\n",
              "      <td>State Highway Agency</td>\n",
              "      <td>2530</td>\n",
              "      <td>2530</td>\n",
              "      <td>33.412050</td>\n",
              "      <td>...</td>\n",
              "      <td>1</td>\n",
              "      <td>Non-Junction</td>\n",
              "      <td>1</td>\n",
              "      <td>Not an Intersection</td>\n",
              "      <td>0</td>\n",
              "      <td>None</td>\n",
              "      <td>5</td>\n",
              "      <td>Outside Trafficway</td>\n",
              "      <td>3</td>\n",
              "      <td>Dark - Lighted</td>\n",
              "      <td>2</td>\n",
              "      <td>Rain</td>\n",
              "      <td>0</td>\n",
              "      <td>No Additional Atmospheric Conditions</td>\n",
              "      <td>2</td>\n",
              "      <td>Rain</td>\n",
              "      <td>0</td>\n",
              "      <td>No</td>\n",
              "      <td>0000000</td>\n",
              "      <td>Not Applicable</td>\n",
              "      <td>20</td>\n",
              "      <td>8:00pm-8:59pm</td>\n",
              "      <td>7</td>\n",
              "      <td>7</td>\n",
              "      <td>20</td>\n",
              "      <td>8:00pm-8:59pm</td>\n",
              "      <td>10</td>\n",
              "      <td>10</td>\n",
              "      <td>88</td>\n",
              "      <td>Not Applicable (Not Transported)</td>\n",
              "      <td>88</td>\n",
              "      <td>Not Applicable (Not Transported)</td>\n",
              "      <td>0</td>\n",
              "      <td>None</td>\n",
              "      <td>0</td>\n",
              "      <td>None</td>\n",
              "      <td>0</td>\n",
              "      <td>None</td>\n",
              "      <td>1</td>\n",
              "      <td>0</td>\n",
              "    </tr>\n",
              "  </tbody>\n",
              "</table>\n",
              "<p>5 rows × 91 columns</p>\n",
              "</div>"
            ],
            "text/plain": [
              "   STATE STATENAME  ST_CASE  VE_TOTAL  ...  CF3  CF3NAME  FATALS  DRUNK_DR\n",
              "0      1   Alabama    10001         1  ...    0     None       1         1\n",
              "1      1   Alabama    10002         1  ...    0     None       1         1\n",
              "2      1   Alabama    10003         2  ...    0     None       1         0\n",
              "3      1   Alabama    10004         1  ...    0     None       1         1\n",
              "4      1   Alabama    10005         1  ...    0     None       1         0\n",
              "\n",
              "[5 rows x 91 columns]"
            ]
          },
          "metadata": {},
          "execution_count": 543
        }
      ]
    },
    {
      "cell_type": "code",
      "source": [
        "fatalities_2017  = pd.read_csv('nhtsa_accidents_fatalities_2017.csv')\n"
      ],
      "metadata": {
        "colab": {
          "base_uri": "https://localhost:8080/"
        },
        "id": "y0tdqGtGiLtv",
        "outputId": "290463ba-caef-43ab-f644-2f0314b08e28"
      },
      "execution_count": 524,
      "outputs": [
        {
          "output_type": "stream",
          "name": "stderr",
          "text": [
            "/usr/local/lib/python3.7/dist-packages/IPython/core/interactiveshell.py:2718: DtypeWarning: Columns (40,42) have mixed types.Specify dtype option on import or set low_memory=False.\n",
            "  interactivity=interactivity, compiler=compiler, result=result)\n"
          ]
        }
      ]
    },
    {
      "cell_type": "code",
      "source": [
        "fatalities_2018  = pd.read_csv('nhtsa_accidents_fatalities_2018.csv')\n"
      ],
      "metadata": {
        "id": "P4sjsHakiie8"
      },
      "execution_count": 525,
      "outputs": []
    },
    {
      "cell_type": "code",
      "source": [
        "# I was getting an error, and I solved it with this thread: https://stackoverflow.com/questions/18171739/unicodedecodeerror-when-reading-csv-file-in-pandas-with-python\n",
        "fatalities_2019  = pd.read_csv('nhtsa_accidents_fatalities_2019.csv',encoding = \"ISO-8859-1\", engine='python')\n",
        "\n"
      ],
      "metadata": {
        "id": "yjljTBVkikcp"
      },
      "execution_count": 526,
      "outputs": []
    },
    {
      "cell_type": "code",
      "source": [
        "fatalities_df = pd.concat([fatalities_2016,fatalities_2017])\n",
        "fatalities_df = pd.concat([fatalities_df,fatalities_2018])\n",
        "fatalities_df = pd.concat([fatalities_df,fatalities_2019])\n",
        "fatalities_df.info()\n"
      ],
      "metadata": {
        "colab": {
          "base_uri": "https://localhost:8080/"
        },
        "id": "CU-si-xmpv0t",
        "outputId": "f3c14f50-9bf3-4dc2-c52c-aea01e954845"
      },
      "execution_count": 527,
      "outputs": [
        {
          "output_type": "stream",
          "name": "stdout",
          "text": [
            "<class 'pandas.core.frame.DataFrame'>\n",
            "Int64Index: 136471 entries, 0 to 33243\n",
            "Data columns (total 91 columns):\n",
            " #   Column        Non-Null Count   Dtype  \n",
            "---  ------        --------------   -----  \n",
            " 0   STATE         136471 non-null  int64  \n",
            " 1   STATENAME     136471 non-null  object \n",
            " 2   ST_CASE       136471 non-null  int64  \n",
            " 3   VE_TOTAL      136471 non-null  int64  \n",
            " 4   VE_FORMS      136471 non-null  int64  \n",
            " 5   PVH_INVL      136471 non-null  int64  \n",
            " 6   PEDS          136471 non-null  int64  \n",
            " 7   PERSONS       136471 non-null  int64  \n",
            " 8   PERMVIT       136471 non-null  int64  \n",
            " 9   PERNOTMVIT    136471 non-null  int64  \n",
            " 10  COUNTY        136471 non-null  int64  \n",
            " 11  COUNTYNAME    136471 non-null  object \n",
            " 12  CITY          136471 non-null  int64  \n",
            " 13  CITYNAME      136471 non-null  object \n",
            " 14  DAY           136471 non-null  int64  \n",
            " 15  DAYNAME       136471 non-null  int64  \n",
            " 16  MONTH         136471 non-null  int64  \n",
            " 17  MONTHNAME     136471 non-null  object \n",
            " 18  YEAR          136471 non-null  int64  \n",
            " 19  DAY_WEEK      136471 non-null  int64  \n",
            " 20  DAY_WEEKNAME  136471 non-null  object \n",
            " 21  HOUR          136471 non-null  int64  \n",
            " 22  HOURNAME      136471 non-null  object \n",
            " 23  MINUTE        136471 non-null  int64  \n",
            " 24  MINUTENAME    136471 non-null  object \n",
            " 25  NHS           136471 non-null  int64  \n",
            " 26  NHSNAME       136471 non-null  object \n",
            " 27  ROUTE         136471 non-null  int64  \n",
            " 28  ROUTENAME     136471 non-null  object \n",
            " 29  TWAY_ID       136471 non-null  object \n",
            " 30  TWAY_ID2      36125 non-null   object \n",
            " 31  RUR_URB       136471 non-null  int64  \n",
            " 32  RUR_URBNAME   136471 non-null  object \n",
            " 33  FUNC_SYS      136471 non-null  int64  \n",
            " 34  FUNC_SYSNAME  136471 non-null  object \n",
            " 35  RD_OWNER      136471 non-null  int64  \n",
            " 36  RD_OWNERNAME  136471 non-null  object \n",
            " 37  MILEPT        136471 non-null  int64  \n",
            " 38  MILEPTNAME    136471 non-null  object \n",
            " 39  LATITUDE      136471 non-null  float64\n",
            " 40  LATITUDENAME  136471 non-null  object \n",
            " 41  LONGITUD      136471 non-null  float64\n",
            " 42  LONGITUDNAME  136471 non-null  object \n",
            " 43  SP_JUR        136471 non-null  int64  \n",
            " 44  SP_JURNAME    136471 non-null  object \n",
            " 45  HARM_EV       136471 non-null  int64  \n",
            " 46  HARM_EVNAME   136471 non-null  object \n",
            " 47  MAN_COLL      136471 non-null  int64  \n",
            " 48  MAN_COLLNAME  136471 non-null  object \n",
            " 49  RELJCT1       136471 non-null  int64  \n",
            " 50  RELJCT1NAME   136471 non-null  object \n",
            " 51  RELJCT2       136471 non-null  int64  \n",
            " 52  RELJCT2NAME   136471 non-null  object \n",
            " 53  TYP_INT       136471 non-null  int64  \n",
            " 54  TYP_INTNAME   136471 non-null  object \n",
            " 55  WRK_ZONE      136471 non-null  int64  \n",
            " 56  WRK_ZONENAME  136471 non-null  object \n",
            " 57  REL_ROAD      136471 non-null  int64  \n",
            " 58  REL_ROADNAME  136471 non-null  object \n",
            " 59  LGT_COND      136471 non-null  int64  \n",
            " 60  LGT_CONDNAME  136471 non-null  object \n",
            " 61  WEATHER1      136471 non-null  int64  \n",
            " 62  WEATHER1NAME  136471 non-null  object \n",
            " 63  WEATHER2      136471 non-null  int64  \n",
            " 64  WEATHER2NAME  136471 non-null  object \n",
            " 65  WEATHER       136471 non-null  int64  \n",
            " 66  WEATHERNAME   136471 non-null  object \n",
            " 67  SCH_BUS       136471 non-null  int64  \n",
            " 68  SCH_BUSNAME   136471 non-null  object \n",
            " 69  RAIL          136471 non-null  object \n",
            " 70  RAILNAME      136471 non-null  object \n",
            " 71  NOT_HOUR      136471 non-null  int64  \n",
            " 72  NOT_HOURNAME  136471 non-null  object \n",
            " 73  NOT_MIN       136471 non-null  int64  \n",
            " 74  NOT_MINNAME   136471 non-null  object \n",
            " 75  ARR_HOUR      136471 non-null  int64  \n",
            " 76  ARR_HOURNAME  136471 non-null  object \n",
            " 77  ARR_MIN       136471 non-null  int64  \n",
            " 78  ARR_MINNAME   136471 non-null  object \n",
            " 79  HOSP_HR       136471 non-null  int64  \n",
            " 80  HOSP_HRNAME   136471 non-null  object \n",
            " 81  HOSP_MN       136471 non-null  int64  \n",
            " 82  HOSP_MNNAME   136471 non-null  object \n",
            " 83  CF1           136471 non-null  int64  \n",
            " 84  CF1NAME       136471 non-null  object \n",
            " 85  CF2           136471 non-null  int64  \n",
            " 86  CF2NAME       136471 non-null  object \n",
            " 87  CF3           136471 non-null  int64  \n",
            " 88  CF3NAME       136471 non-null  object \n",
            " 89  FATALS        136471 non-null  int64  \n",
            " 90  DRUNK_DR      136471 non-null  int64  \n",
            "dtypes: float64(2), int64(48), object(41)\n",
            "memory usage: 95.8+ MB\n"
          ]
        }
      ]
    },
    {
      "cell_type": "markdown",
      "source": [
        "We now have two dataFrames, (1) the kaggle dataset with ~1.5M accidents, and the (2) Department of Transportation fatalities dataset."
      ],
      "metadata": {
        "id": "uc94OPZ4rRuG"
      }
    },
    {
      "cell_type": "markdown",
      "source": [
        "For each dataset, let's now select specific columns for faster computations:\n"
      ],
      "metadata": {
        "id": "9crDg2UQrbAM"
      }
    },
    {
      "cell_type": "code",
      "source": [
        "# We are only interested in fatalities accidents that were reported to be related to intersections in the official reports.\n",
        "# "
      ],
      "metadata": {
        "id": "KeQOA-Inrrj6"
      },
      "execution_count": null,
      "outputs": []
    },
    {
      "cell_type": "code",
      "source": [
        "# Create a new dataset that combines accidents from both intersections: I will revisit these steps in the future. \n",
        "\n",
        "fatalities_df.RELJCT2NAME.unique()"
      ],
      "metadata": {
        "colab": {
          "base_uri": "https://localhost:8080/"
        },
        "id": "yCRf_m1jtTd3",
        "outputId": "be3799aa-a940-4249-fdf9-47db2f5b2d79"
      },
      "execution_count": 528,
      "outputs": [
        {
          "output_type": "execute_result",
          "data": {
            "text/plain": [
              "array(['Non-Junction', 'Entrance/Exit Ramp Related',\n",
              "       'Intersection-Related', 'Intersection', 'Driveway Access Related',\n",
              "       'Through Roadway', 'Other location within Interchange Area',\n",
              "       'Acceleration/Deceleration Lane', 'Railway Grade Crossing',\n",
              "       'Entrance/Exit Ramp', 'Crossover-Related', 'Driveway Access',\n",
              "       'Unknown', 'Shared-Use Path Crossing', 'Not Reported',\n",
              "       'Reported as Unknown'], dtype=object)"
            ]
          },
          "metadata": {},
          "execution_count": 528
        }
      ]
    },
    {
      "cell_type": "code",
      "source": [
        "fatalities_intersections = fatalities_df.loc[(fatalities_df['RELJCT2NAME']== 'Intersection-Related') | (fatalities_df['RELJCT2NAME']== 'Intersection')].copy()\n",
        "fatalities_intersections.count()"
      ],
      "metadata": {
        "colab": {
          "base_uri": "https://localhost:8080/"
        },
        "id": "Ar81wNZUbKhj",
        "outputId": "82cb78aa-51d4-4e8b-fceb-5abef5b7985d"
      },
      "execution_count": 529,
      "outputs": [
        {
          "output_type": "execute_result",
          "data": {
            "text/plain": [
              "STATE        33859\n",
              "STATENAME    33859\n",
              "ST_CASE      33859\n",
              "VE_TOTAL     33859\n",
              "VE_FORMS     33859\n",
              "             ...  \n",
              "CF2NAME      33859\n",
              "CF3          33859\n",
              "CF3NAME      33859\n",
              "FATALS       33859\n",
              "DRUNK_DR     33859\n",
              "Length: 91, dtype: int64"
            ]
          },
          "metadata": {},
          "execution_count": 529
        }
      ]
    },
    {
      "cell_type": "code",
      "source": [
        "# There are 33,859 accidents with fatalities that happened in intersections or that were intersection-related. "
      ],
      "metadata": {
        "id": "i0EQS8y0beOY"
      },
      "execution_count": null,
      "outputs": []
    },
    {
      "cell_type": "code",
      "source": [
        "kaggle_intersections = accidents_kaggle.loc[(accidents_kaggle['Traffic_Signal']== True) | (accidents_kaggle['Crossing']== True) | (accidents_kaggle['Stop']== True)].copy()\n"
      ],
      "metadata": {
        "id": "XIQBWeqgbrZP"
      },
      "execution_count": 530,
      "outputs": []
    },
    {
      "cell_type": "markdown",
      "source": [
        "Let's now combine both datasets into a single one. The criteria is having the same latititude and longitude coordinates (30m difference) + also having occurred on the same minute. If this happens, then we consider the accident to be the same.\n",
        "\n",
        "The resulting dataframe will have the following features (columns):\n",
        "(1) Severity, latitude, longitude, street, city, county, state, zipcode, stop, Traffic_Signal, Crossing, number of fatalities, number of injuries, type of intersection, number of vehicles involved."
      ],
      "metadata": {
        "id": "cry5eN_CfW82"
      }
    },
    {
      "cell_type": "code",
      "source": [
        "# Select the columns of interest in the fatalities_intersections dataset and create a new dataset:\n",
        "\n",
        "fatalities_df = fatalities_intersections[['STATENAME','COUNTYNAME','CITYNAME','VE_TOTAL','LATITUDE','LONGITUD','DAY','MONTH','YEAR','HOUR','MINUTE','RELJCT2NAME','TYP_INTNAME','FATALS']].copy()"
      ],
      "metadata": {
        "id": "rYWX0dCbhWnC"
      },
      "execution_count": 544,
      "outputs": []
    },
    {
      "cell_type": "code",
      "source": [
        "fatalities_df.info()"
      ],
      "metadata": {
        "colab": {
          "base_uri": "https://localhost:8080/"
        },
        "id": "wWEzGHPDsTd7",
        "outputId": "8b14219a-13ce-4877-a879-ee0f9d3a6394"
      },
      "execution_count": 545,
      "outputs": [
        {
          "output_type": "stream",
          "name": "stdout",
          "text": [
            "<class 'pandas.core.frame.DataFrame'>\n",
            "Int64Index: 33859 entries, 10 to 33240\n",
            "Data columns (total 14 columns):\n",
            " #   Column       Non-Null Count  Dtype  \n",
            "---  ------       --------------  -----  \n",
            " 0   STATENAME    33859 non-null  object \n",
            " 1   COUNTYNAME   33859 non-null  object \n",
            " 2   CITYNAME     33859 non-null  object \n",
            " 3   VE_TOTAL     33859 non-null  int64  \n",
            " 4   LATITUDE     33859 non-null  float64\n",
            " 5   LONGITUD     33859 non-null  float64\n",
            " 6   DAY          33859 non-null  int64  \n",
            " 7   MONTH        33859 non-null  int64  \n",
            " 8   YEAR         33859 non-null  int64  \n",
            " 9   HOUR         33859 non-null  int64  \n",
            " 10  MINUTE       33859 non-null  int64  \n",
            " 11  RELJCT2NAME  33859 non-null  object \n",
            " 12  TYP_INTNAME  33859 non-null  object \n",
            " 13  FATALS       33859 non-null  int64  \n",
            "dtypes: float64(2), int64(7), object(5)\n",
            "memory usage: 3.9+ MB\n"
          ]
        }
      ]
    },
    {
      "cell_type": "code",
      "source": [
        "# Merging the two datasets. First, we need to have the date_time for all accidents.\n"
      ],
      "metadata": {
        "id": "ZuEJx-kfuZ5e"
      },
      "execution_count": null,
      "outputs": []
    },
    {
      "cell_type": "code",
      "source": [
        "fatalities_df['MONTH'] = fatalities_df['MONTH'].apply(lambda x: str(x).zfill(2))\n",
        "fatalities_df['DAY'] = fatalities_df['DAY'].apply(lambda x: str(x).zfill(2))\n",
        "fatalities_df['HOUR'] = fatalities_df['HOUR'].apply(lambda x: str(x).zfill(2))\n",
        "fatalities_df['MINUTE'] = fatalities_df['MINUTE'].apply(lambda x: str(x).zfill(2))\n",
        "\n",
        "# Remove null values (which are '99'):\n",
        "fatalities_df['HOUR'].replace('99', np.NaN,inplace=True)\n",
        "fatalities_df['MINUTE'].replace('99', np.NaN,inplace=True)"
      ],
      "metadata": {
        "id": "y47jrpXguvhL"
      },
      "execution_count": 546,
      "outputs": []
    },
    {
      "cell_type": "code",
      "source": [
        "fatalities_df['MINUTE'].unique()"
      ],
      "metadata": {
        "colab": {
          "base_uri": "https://localhost:8080/"
        },
        "id": "u9q67v6fwkzS",
        "outputId": "de85723a-d06d-4f85-ba9c-35bda897fcca"
      },
      "execution_count": 547,
      "outputs": [
        {
          "output_type": "execute_result",
          "data": {
            "text/plain": [
              "array(['04', '20', '30', '35', '45', '48', '39', '27', '25', '50', '10',\n",
              "       '28', '40', '33', '42', '47', '00', '26', '56', '05', '23', '34',\n",
              "       '07', '08', '16', '18', '58', '21', '55', '29', '14', '15', '32',\n",
              "       '02', '44', '31', '12', '49', '37', '24', '01', '38', '46', '17',\n",
              "       '51', '36', '57', '22', '19', '11', '59', '06', '43', '09', nan,\n",
              "       '54', '53', '41', '52', '13', '03'], dtype=object)"
            ]
          },
          "metadata": {},
          "execution_count": 547
        }
      ]
    },
    {
      "cell_type": "code",
      "source": [
        "import datetime # datetime objects, which allow us to do time-based operations\n",
        "fatalities_df[\"DATE_TIME\"] =  pd.to_datetime(fatalities_df.YEAR.astype(str) + \"/\" + fatalities_df.MONTH + \"/\" + fatalities_df.DAY + \" \" + fatalities_df.HOUR + \":\" + fatalities_df.MINUTE, format=\"%Y/%m/%d %H:%M\")"
      ],
      "metadata": {
        "id": "WXJ6VaCnsDSo"
      },
      "execution_count": 548,
      "outputs": []
    },
    {
      "cell_type": "code",
      "source": [
        "# Now we have a new column 'DATE_TIME' that informs us about when the fatality accident happened. Pretty good!\n",
        "\n",
        "# Delete the YEAR, DAY, MONTH, HOUR, MINUTE columns.\n",
        "fatalities_df.drop(columns=['YEAR','DAY','MONTH','HOUR','MINUTE'],inplace = True)\n",
        "# Rename columns:\n",
        "fatalities_df.rename(columns = {'STATENAME':'State','COUNTYNAME':'County','CITYNAME':'City','LATITUDE': 'Latitude','LONGITUD':'Longitude','RELJCT2NAME':'Intersection_status','TYP_INTNAME':'Intersection_type','FATALS': 'number_of_fatalities','VE_TOTAL':'num_vehicles'},inplace=True)\n",
        "# Great! We now do have a cleaned fatalities dataset. Just accidents at intersections, with their locations, time, and number of fatalities (always at leat 1 fatality)"
      ],
      "metadata": {
        "id": "FF8IySqiobXT"
      },
      "execution_count": 549,
      "outputs": []
    },
    {
      "cell_type": "code",
      "source": [
        "fatalities_df['origin_dataset'] = 'fatalities_reported'\n",
        "fatalities_df.info()"
      ],
      "metadata": {
        "colab": {
          "base_uri": "https://localhost:8080/"
        },
        "id": "I9BtXe6l9416",
        "outputId": "5b43619f-734c-4aba-f81a-c8a3167e12dc"
      },
      "execution_count": 550,
      "outputs": [
        {
          "output_type": "stream",
          "name": "stdout",
          "text": [
            "<class 'pandas.core.frame.DataFrame'>\n",
            "Int64Index: 33859 entries, 10 to 33240\n",
            "Data columns (total 11 columns):\n",
            " #   Column                Non-Null Count  Dtype         \n",
            "---  ------                --------------  -----         \n",
            " 0   State                 33859 non-null  object        \n",
            " 1   County                33859 non-null  object        \n",
            " 2   City                  33859 non-null  object        \n",
            " 3   num_vehicles          33859 non-null  int64         \n",
            " 4   Latitude              33859 non-null  float64       \n",
            " 5   Longitude             33859 non-null  float64       \n",
            " 6   Intersection_status   33859 non-null  object        \n",
            " 7   Intersection_type     33859 non-null  object        \n",
            " 8   number_of_fatalities  33859 non-null  int64         \n",
            " 9   DATE_TIME             33773 non-null  datetime64[ns]\n",
            " 10  origin_dataset        33859 non-null  object        \n",
            "dtypes: datetime64[ns](1), float64(2), int64(2), object(6)\n",
            "memory usage: 3.1+ MB\n"
          ]
        }
      ]
    },
    {
      "cell_type": "code",
      "source": [
        "# Now, let's pre-process the Kaggle dataset in order to have it in the same format:\n",
        "\n",
        "# Remove duplicates in kaggle_intersections:\n",
        "kaggle_intersections.drop_duplicates(subset=['Start_Time', 'End_Time','Start_Lat','Start_Lng'],inplace=True)\n",
        "\n",
        "# This selects the columns of interest: \n",
        "kaggle_df = kaggle_intersections[['State','County','City','Start_Time','Start_Lat','Start_Lng','Crossing','Traffic_Signal','Stop']].copy()\n",
        "\n",
        "# Rename columns:\n",
        "kaggle_df.rename(columns = {'Start_Time':'DATE_TIME','Start_Lat': 'Latitude','Start_Lng':'Longitude'},inplace=True)\n",
        "kaggle_df['origin_dataset'] = 'no_fatalities_information'\n",
        "kaggle_df.info()\n"
      ],
      "metadata": {
        "colab": {
          "base_uri": "https://localhost:8080/"
        },
        "id": "XuoahFCLlcog",
        "outputId": "d7a73cbd-e56b-4294-d611-8695ddf5d634"
      },
      "execution_count": 552,
      "outputs": [
        {
          "output_type": "stream",
          "name": "stdout",
          "text": [
            "<class 'pandas.core.frame.DataFrame'>\n",
            "Int64Index: 185680 entries, 6 to 1516018\n",
            "Data columns (total 10 columns):\n",
            " #   Column          Non-Null Count   Dtype  \n",
            "---  ------          --------------   -----  \n",
            " 0   State           185680 non-null  object \n",
            " 1   County          185680 non-null  object \n",
            " 2   City            185668 non-null  object \n",
            " 3   DATE_TIME       185680 non-null  object \n",
            " 4   Latitude        185680 non-null  float64\n",
            " 5   Longitude       185680 non-null  float64\n",
            " 6   Crossing        185680 non-null  bool   \n",
            " 7   Traffic_Signal  185680 non-null  bool   \n",
            " 8   Stop            185680 non-null  bool   \n",
            " 9   origin_dataset  185680 non-null  object \n",
            "dtypes: bool(3), float64(2), object(5)\n",
            "memory usage: 11.9+ MB\n"
          ]
        }
      ]
    },
    {
      "cell_type": "code",
      "source": [
        "# Now, let's merge both datasets!\n",
        "all_accidents_df = pd.concat([fatalities_df,kaggle_df],ignore_index=True)\n",
        "all_accidents_df.info()"
      ],
      "metadata": {
        "colab": {
          "base_uri": "https://localhost:8080/"
        },
        "id": "H39-2u1c3MVM",
        "outputId": "9f89100a-ba1a-491c-df32-86b16cba4cf8"
      },
      "execution_count": 569,
      "outputs": [
        {
          "output_type": "stream",
          "name": "stdout",
          "text": [
            "<class 'pandas.core.frame.DataFrame'>\n",
            "RangeIndex: 219539 entries, 0 to 219538\n",
            "Data columns (total 14 columns):\n",
            " #   Column                Non-Null Count   Dtype  \n",
            "---  ------                --------------   -----  \n",
            " 0   State                 219539 non-null  object \n",
            " 1   County                219539 non-null  object \n",
            " 2   City                  219527 non-null  object \n",
            " 3   num_vehicles          33859 non-null   float64\n",
            " 4   Latitude              219539 non-null  float64\n",
            " 5   Longitude             219539 non-null  float64\n",
            " 6   Intersection_status   33859 non-null   object \n",
            " 7   Intersection_type     33859 non-null   object \n",
            " 8   number_of_fatalities  33859 non-null   float64\n",
            " 9   DATE_TIME             219453 non-null  object \n",
            " 10  origin_dataset        219539 non-null  object \n",
            " 11  Crossing              185680 non-null  object \n",
            " 12  Traffic_Signal        185680 non-null  object \n",
            " 13  Stop                  185680 non-null  object \n",
            "dtypes: float64(4), object(10)\n",
            "memory usage: 23.4+ MB\n"
          ]
        }
      ]
    },
    {
      "cell_type": "code",
      "source": [
        "all_accidents_df.head()"
      ],
      "metadata": {
        "colab": {
          "base_uri": "https://localhost:8080/",
          "height": 309
        },
        "id": "WnHuna2z_pRj",
        "outputId": "52d8e496-0b52-4e2f-eac3-2eb1427fa506"
      },
      "execution_count": 575,
      "outputs": [
        {
          "output_type": "execute_result",
          "data": {
            "text/html": [
              "<div>\n",
              "<style scoped>\n",
              "    .dataframe tbody tr th:only-of-type {\n",
              "        vertical-align: middle;\n",
              "    }\n",
              "\n",
              "    .dataframe tbody tr th {\n",
              "        vertical-align: top;\n",
              "    }\n",
              "\n",
              "    .dataframe thead th {\n",
              "        text-align: right;\n",
              "    }\n",
              "</style>\n",
              "<table border=\"1\" class=\"dataframe\">\n",
              "  <thead>\n",
              "    <tr style=\"text-align: right;\">\n",
              "      <th></th>\n",
              "      <th>State</th>\n",
              "      <th>County</th>\n",
              "      <th>City</th>\n",
              "      <th>num_vehicles</th>\n",
              "      <th>Latitude</th>\n",
              "      <th>Longitude</th>\n",
              "      <th>Intersection_status</th>\n",
              "      <th>Intersection_type</th>\n",
              "      <th>number_of_fatalities</th>\n",
              "      <th>DATE_TIME</th>\n",
              "      <th>origin_dataset</th>\n",
              "      <th>Crossing</th>\n",
              "      <th>Traffic_Signal</th>\n",
              "      <th>Stop</th>\n",
              "    </tr>\n",
              "  </thead>\n",
              "  <tbody>\n",
              "    <tr>\n",
              "      <th>0</th>\n",
              "      <td>Alabama</td>\n",
              "      <td>JEFFERSON</td>\n",
              "      <td>BIRMINGHAM</td>\n",
              "      <td>2.0</td>\n",
              "      <td>33.531136</td>\n",
              "      <td>-86.757786</td>\n",
              "      <td>Intersection-Related</td>\n",
              "      <td>Four-Way Intersection</td>\n",
              "      <td>1.0</td>\n",
              "      <td>2016-01-06 08:04:00</td>\n",
              "      <td>fatalities_reported</td>\n",
              "      <td>NaN</td>\n",
              "      <td>NaN</td>\n",
              "      <td>NaN</td>\n",
              "    </tr>\n",
              "    <tr>\n",
              "      <th>1</th>\n",
              "      <td>Alabama</td>\n",
              "      <td>TALLAPOOSA</td>\n",
              "      <td>CAMP HILL</td>\n",
              "      <td>3.0</td>\n",
              "      <td>32.800489</td>\n",
              "      <td>-85.644958</td>\n",
              "      <td>Intersection</td>\n",
              "      <td>Four-Way Intersection</td>\n",
              "      <td>4.0</td>\n",
              "      <td>2016-01-10 01:20:00</td>\n",
              "      <td>fatalities_reported</td>\n",
              "      <td>NaN</td>\n",
              "      <td>NaN</td>\n",
              "      <td>NaN</td>\n",
              "    </tr>\n",
              "    <tr>\n",
              "      <th>2</th>\n",
              "      <td>Alabama</td>\n",
              "      <td>LAWRENCE</td>\n",
              "      <td>NOT APPLICABLE</td>\n",
              "      <td>2.0</td>\n",
              "      <td>34.416869</td>\n",
              "      <td>-87.161528</td>\n",
              "      <td>Intersection</td>\n",
              "      <td>Four-Way Intersection</td>\n",
              "      <td>1.0</td>\n",
              "      <td>2016-01-13 07:30:00</td>\n",
              "      <td>fatalities_reported</td>\n",
              "      <td>NaN</td>\n",
              "      <td>NaN</td>\n",
              "      <td>NaN</td>\n",
              "    </tr>\n",
              "    <tr>\n",
              "      <th>3</th>\n",
              "      <td>Alabama</td>\n",
              "      <td>JEFFERSON</td>\n",
              "      <td>BIRMINGHAM</td>\n",
              "      <td>4.0</td>\n",
              "      <td>33.513639</td>\n",
              "      <td>-86.792417</td>\n",
              "      <td>Intersection</td>\n",
              "      <td>Four-Way Intersection</td>\n",
              "      <td>1.0</td>\n",
              "      <td>2016-01-14 10:35:00</td>\n",
              "      <td>fatalities_reported</td>\n",
              "      <td>NaN</td>\n",
              "      <td>NaN</td>\n",
              "      <td>NaN</td>\n",
              "    </tr>\n",
              "    <tr>\n",
              "      <th>4</th>\n",
              "      <td>Alabama</td>\n",
              "      <td>CALHOUN</td>\n",
              "      <td>NOT APPLICABLE</td>\n",
              "      <td>2.0</td>\n",
              "      <td>33.886472</td>\n",
              "      <td>-85.916733</td>\n",
              "      <td>Intersection</td>\n",
              "      <td>Four-Way Intersection</td>\n",
              "      <td>1.0</td>\n",
              "      <td>2016-01-15 21:45:00</td>\n",
              "      <td>fatalities_reported</td>\n",
              "      <td>NaN</td>\n",
              "      <td>NaN</td>\n",
              "      <td>NaN</td>\n",
              "    </tr>\n",
              "  </tbody>\n",
              "</table>\n",
              "</div>"
            ],
            "text/plain": [
              "     State       County            City  ...  Crossing  Traffic_Signal  Stop\n",
              "0  Alabama   JEFFERSON       BIRMINGHAM  ...       NaN             NaN   NaN\n",
              "1  Alabama  TALLAPOOSA        CAMP HILL  ...       NaN             NaN   NaN\n",
              "2  Alabama    LAWRENCE   NOT APPLICABLE  ...       NaN             NaN   NaN\n",
              "3  Alabama   JEFFERSON       BIRMINGHAM  ...       NaN             NaN   NaN\n",
              "4  Alabama     CALHOUN   NOT APPLICABLE  ...       NaN             NaN   NaN\n",
              "\n",
              "[5 rows x 14 columns]"
            ]
          },
          "metadata": {},
          "execution_count": 575
        }
      ]
    },
    {
      "cell_type": "code",
      "source": [
        "# Let's remove the last parenthesis (and its contents) for the counties:\n",
        "import re\n",
        "all_accidents_df['County'] = all_accidents_df['County'].apply(lambda x: re.sub(r\"\\(.*\\)\", \"\", x))\n"
      ],
      "metadata": {
        "id": "zmFIYR9iFXOd"
      },
      "execution_count": 571,
      "outputs": []
    },
    {
      "cell_type": "code",
      "source": [
        "# Now, let's convert states from shorter notation to the whole state name:\n",
        "def converts_state_names(row):\n",
        "    us_state_to_abbrev = {\n",
        "    \"Alabama\": \"AL\",\n",
        "    \"Alaska\": \"AK\",\n",
        "    \"Arizona\": \"AZ\",\n",
        "    \"Arkansas\": \"AR\",\n",
        "    \"California\": \"CA\",\n",
        "    \"Colorado\": \"CO\",\n",
        "    \"Connecticut\": \"CT\",\n",
        "    \"Delaware\": \"DE\",\n",
        "    \"Florida\": \"FL\",\n",
        "    \"Georgia\": \"GA\",\n",
        "    \"Hawaii\": \"HI\",\n",
        "    \"Idaho\": \"ID\",\n",
        "    \"Illinois\": \"IL\",\n",
        "    \"Indiana\": \"IN\",\n",
        "    \"Iowa\": \"IA\",\n",
        "    \"Kansas\": \"KS\",\n",
        "    \"Kentucky\": \"KY\",\n",
        "    \"Louisiana\": \"LA\",\n",
        "    \"Maine\": \"ME\",\n",
        "    \"Maryland\": \"MD\",\n",
        "    \"Massachusetts\": \"MA\",\n",
        "    \"Michigan\": \"MI\",\n",
        "    \"Minnesota\": \"MN\",\n",
        "    \"Mississippi\": \"MS\",\n",
        "    \"Missouri\": \"MO\",\n",
        "    \"Montana\": \"MT\",\n",
        "    \"Nebraska\": \"NE\",\n",
        "    \"Nevada\": \"NV\",\n",
        "    \"New Hampshire\": \"NH\",\n",
        "    \"New Jersey\": \"NJ\",\n",
        "    \"New Mexico\": \"NM\",\n",
        "    \"New York\": \"NY\",\n",
        "    \"North Carolina\": \"NC\",\n",
        "    \"North Dakota\": \"ND\",\n",
        "    \"Ohio\": \"OH\",\n",
        "    \"Oklahoma\": \"OK\",\n",
        "    \"Oregon\": \"OR\",\n",
        "    \"Pennsylvania\": \"PA\",\n",
        "    \"Rhode Island\": \"RI\",\n",
        "    \"South Carolina\": \"SC\",\n",
        "    \"South Dakota\": \"SD\",\n",
        "    \"Tennessee\": \"TN\",\n",
        "    \"Texas\": \"TX\",\n",
        "    \"Utah\": \"UT\",\n",
        "    \"Vermont\": \"VT\",\n",
        "    \"Virginia\": \"VA\",\n",
        "    \"Washington\": \"WA\",\n",
        "    \"West Virginia\": \"WV\",\n",
        "    \"Wisconsin\": \"WI\",\n",
        "    \"Wyoming\": \"WY\",\n",
        "    \"District of Columbia\": \"DC\",\n",
        "    \"American Samoa\": \"AS\",\n",
        "    \"Guam\": \"GU\",\n",
        "    \"Northern Mariana Islands\": \"MP\",\n",
        "    \"Puerto Rico\": \"PR\",\n",
        "    \"United States Minor Outlying Islands\": \"UM\",\n",
        "    \"U.S. Virgin Islands\": \"VI\"}\n",
        "    \n",
        "    # invert the dictionary\n",
        "    abbrev_to_us_state = dict(map(reversed, us_state_to_abbrev.items()))\n",
        "    if len(row) == 2:\n",
        "        return abbrev_to_us_state.get(row)\n",
        "    else:\n",
        "      return row\n",
        "\n",
        "\n",
        "all_accidents_df['State'] = all_accidents_df['State'].apply(converts_state_names)\n",
        "\n"
      ],
      "metadata": {
        "id": "u9CuFbNqIUUX"
      },
      "execution_count": 572,
      "outputs": []
    },
    {
      "cell_type": "code",
      "source": [
        "all_accidents_df.reset_index(inplace=True,drop=True)"
      ],
      "metadata": {
        "id": "afOshT2lL5xP"
      },
      "execution_count": 576,
      "outputs": []
    },
    {
      "cell_type": "code",
      "source": [
        "# We have now our merged dataset. We now will run an custom algorithm to find clusters (defined as accidents happening and less than 50m):\n"
      ],
      "metadata": {
        "id": "zQ9PnmWcA4V8"
      },
      "execution_count": 561,
      "outputs": []
    },
    {
      "cell_type": "code",
      "source": [
        "# This is the haversine distance calculation. It will allow us to find the distance between two given accident locations:\n",
        "from math import sin, cos, sqrt, atan2, radians\n",
        "\n",
        "def distance_between_two_locations(latitude_1,longitude_1,latitude_2,longitude_2):\n",
        "    # approximate radius of earth in km\n",
        "    R = 6373.0\n",
        "    latitude_1 = radians(latitude_1)\n",
        "    latitude_2 = radians(latitude_2)\n",
        "    longitude_1 = radians(longitude_1)\n",
        "    longitude_2 = radians(longitude_2)\n",
        "\n",
        "    dlatitude = latitude_2 - latitude_1\n",
        "    dlongitude = longitude_2 - longitude_1\n",
        "    a = sin(dlatitude / 2)**2 + cos(latitude_1) * cos(latitude_2) * sin(dlongitude / 2)**2\n",
        "    c = 2 * atan2(sqrt(a), sqrt(1 - a))\n",
        "    distance = R * c * 1000 # Expressed in meters.\n",
        "    \n",
        "    return distance"
      ],
      "metadata": {
        "id": "vGyf4iJhA4ZB"
      },
      "execution_count": 72,
      "outputs": []
    },
    {
      "cell_type": "code",
      "source": [
        ""
      ],
      "metadata": {
        "id": "QU-BD9P2U-Qx"
      },
      "execution_count": null,
      "outputs": []
    },
    {
      "cell_type": "code",
      "source": [
        "global all_accidents_df"
      ],
      "metadata": {
        "id": "dvaPCTjKqo9G"
      },
      "execution_count": null,
      "outputs": []
    },
    {
      "cell_type": "code",
      "source": [
        "all_accidents_df.info()"
      ],
      "metadata": {
        "colab": {
          "base_uri": "https://localhost:8080/"
        },
        "id": "OleaW8R4PCph",
        "outputId": "a4fcb6a5-424a-4be3-c603-0ab75621eea0"
      },
      "execution_count": null,
      "outputs": [
        {
          "output_type": "stream",
          "name": "stdout",
          "text": [
            "<class 'pandas.core.frame.DataFrame'>\n",
            "RangeIndex: 219539 entries, 0 to 219538\n",
            "Data columns (total 13 columns):\n",
            " #   Column                Non-Null Count   Dtype  \n",
            "---  ------                --------------   -----  \n",
            " 0   State                 219539 non-null  object \n",
            " 1   num_vehicles          33859 non-null   float64\n",
            " 2   Latitude              219539 non-null  float64\n",
            " 3   Longitude             219539 non-null  float64\n",
            " 4   Intersection_status   33859 non-null   object \n",
            " 5   Intersection_type     33859 non-null   object \n",
            " 6   number_of_fatalities  33859 non-null   float64\n",
            " 7   DATE_TIME             219453 non-null  object \n",
            " 8   origin_dataset        219539 non-null  object \n",
            " 9   City                  185668 non-null  object \n",
            " 10  Crossing              185680 non-null  object \n",
            " 11  Traffic_Signal        185680 non-null  object \n",
            " 12  Stop                  185680 non-null  object \n",
            "dtypes: float64(4), object(9)\n",
            "memory usage: 21.8+ MB\n"
          ]
        }
      ]
    },
    {
      "cell_type": "code",
      "source": [
        "def finds_clusters(row):\n",
        "    # Find latitude and longitude of the current accident\n",
        "\n",
        "    lat,lon = all_accidents_df[['Latitude','Longitude']].iloc[row]\n",
        "    # Filter all accidents above or below an absolute difference of 0.01 for the latitude and longitude. \n",
        "    # For the current accident, this will filter out all the accidents that occurred more than ~1000-12000m away. \n",
        "    narrowed_list_accidents = all_accidents_df.loc[(abs(all_accidents_df['Latitude'] - lat) < 0.01) & (abs(all_accidents_df['Longitude'] - lon) < 0.01)][['Latitude','Longitude']].copy() # & ~all_accidents_df.index.isin([0])\n",
        "    narrowed_list_accidents['distance'] = [distance_between_two_locations(lat,lon,narrowed_list_accidents['Latitude'].iloc[i],narrowed_list_accidents['Longitude'].iloc[i]) for i in range(len(narrowed_list_accidents))]\n",
        "\n",
        "    # And now, we will find which accidents occurred within 50 meters, using the Haversine distance.\n",
        "    cluster_accidents = list(narrowed_list_accidents[narrowed_list_accidents['distance'] <= 50].index)\n",
        "    if row%1000 == 0:\n",
        "        print(row)\n",
        "    del narrowed_list_accidents,lat,lon\n",
        "\n",
        "    \n",
        "    if cluster_accidents:\n",
        "        if len(cluster_accidents) > 1:\n",
        "            return cluster_accidents\n",
        "        # else: # in case there was only one accident (itself), we want to still keep the accident information for web app visualization:\n",
        "        #     # if all_accidents_df['origin_dataset'].iloc[row] == 'fatalities_reported':\n",
        "        #     return [row]\n",
        "\n",
        "    \n",
        "\n"
      ],
      "metadata": {
        "id": "jbKARVE9osTD"
      },
      "execution_count": 66,
      "outputs": []
    },
    {
      "cell_type": "code",
      "source": [
        "import pickle\n",
        "path = '/content/drive/MyDrive/datasets_pickle/'\n",
        "pickle_out = open(path + \"all_accidents_df.pickle\", \"wb\")\n",
        "pickle.dump(all_accidents_df,pickle_out)\n",
        "pickle_out.close()"
      ],
      "metadata": {
        "id": "ckr8PzBcoDWw"
      },
      "execution_count": 643,
      "outputs": []
    },
    {
      "cell_type": "code",
      "source": [
        "list_of_clusters = []\n",
        "for accident in range(len(all_accidents_df)):\n",
        "    list_of_clusters.append(finds_clusters(accident))\n",
        "\n",
        "path = '/content/drive/MyDrive/datasets_pickle/'\n",
        "pickle_out = open(path + \"list_of_clusters.pickle\", \"wb\")\n",
        "pickle.dump(list_of_clusters,pickle_out)\n",
        "pickle_out.close()\n"
      ],
      "metadata": {
        "id": "lG1g0FGZqYUP"
      },
      "execution_count": null,
      "outputs": []
    },
    {
      "cell_type": "code",
      "source": [
        "# Load pickle from google drive\n",
        "\n",
        "import pickle\n",
        "\n",
        "path = '/content/all_accidents_df.pickle'\n",
        "with open(path,'rb') as read_file:\n",
        "    all_accidents_df = pickle.load(read_file)\n",
        "\n",
        "path = '/content/list_of_clusters.pickle'\n",
        "with open(path,'rb') as read_file:\n",
        "    list_of_clusters = pickle.load(read_file)\n"
      ],
      "metadata": {
        "id": "9SbIVV8zp9Q5"
      },
      "execution_count": 5,
      "outputs": []
    },
    {
      "cell_type": "code",
      "source": [
        "# Using list comprehension\n",
        "# to remove None values in list\n",
        "list_of_clusters = [i for i in list_of_clusters if i]"
      ],
      "metadata": {
        "id": "WrjYp6RLBKoq"
      },
      "execution_count": 77,
      "outputs": []
    },
    {
      "cell_type": "code",
      "source": [
        "# Finds unique lists of accidents and outputs a numpy array with the count for each unique list, and another array with the accident lists themselves:\n",
        "# Generate numpy arrays with the unique accident lists and count.\n",
        "unique_accidents_lists, count_unique_accidents_lists = np.unique(list_of_clusters, return_counts=True)"
      ],
      "metadata": {
        "id": "VY3jYibPkWDn",
        "colab": {
          "base_uri": "https://localhost:8080/"
        },
        "outputId": "1c3e8f5b-9aa5-440b-877e-2b27fe3dc89a"
      },
      "execution_count": 82,
      "outputs": [
        {
          "output_type": "stream",
          "name": "stderr",
          "text": [
            "/usr/local/lib/python3.7/dist-packages/numpy/core/_asarray.py:136: VisibleDeprecationWarning: Creating an ndarray from ragged nested sequences (which is a list-or-tuple of lists-or-tuples-or ndarrays with different lengths or shapes) is deprecated. If you meant to do this, you must specify 'dtype=object' when creating the ndarray\n",
            "  return array(a, dtype, copy=False, order=order, subok=True)\n"
          ]
        }
      ]
    },
    {
      "cell_type": "code",
      "source": [
        "# Creates a new dataFrame, by combining the two numpy arrays above:\n",
        "dataset_clusters = pd.DataFrame({'count': count_unique_accidents_lists, 'accidents': list(unique_accidents_lists)}, columns=['count', 'accidents'])\n"
      ],
      "metadata": {
        "id": "SahJVhokTTdP"
      },
      "execution_count": 620,
      "outputs": []
    },
    {
      "cell_type": "code",
      "source": [
        "dataset_clusters.reset_index(drop=True,inplace=True)\n"
      ],
      "metadata": {
        "id": "ZftgmZ1arrKl"
      },
      "execution_count": 621,
      "outputs": []
    },
    {
      "cell_type": "code",
      "source": [
        "# Converts all lists into the set type:\n",
        "dataset_clusters['accidents'] = dataset_clusters['accidents'].apply(set)"
      ],
      "metadata": {
        "id": "vOBsXA4_sIJB"
      },
      "execution_count": 622,
      "outputs": []
    },
    {
      "cell_type": "code",
      "source": [
        "# Reorder in descending order\n",
        "dataset_clusters.sort_values('count', ascending = False, inplace = True)\n",
        "dataset_clusters.reset_index(drop=True,inplace=True)\n"
      ],
      "metadata": {
        "id": "3lDYvcHMsfhQ"
      },
      "execution_count": 623,
      "outputs": []
    },
    {
      "cell_type": "code",
      "source": [
        "from copy import deepcopy\n",
        "dataset_clusters_backup = deepcopy(dataset_clusters)"
      ],
      "metadata": {
        "id": "JOrM21wdt36J"
      },
      "execution_count": 624,
      "outputs": []
    },
    {
      "cell_type": "code",
      "source": [
        "# New column, reflecting the status of each cluster (we initially set all clusters as 'not-evaluated')\n",
        "\n",
        "dataset_clusters=dataset_clusters.assign(cluster_status='not_evaluated')\n",
        "dataset_clusters.head()"
      ],
      "metadata": {
        "colab": {
          "base_uri": "https://localhost:8080/",
          "height": 204
        },
        "id": "kMBgVF7aw1Mz",
        "outputId": "cdfdfb81-33cd-432d-ad0f-6647825ebcb6"
      },
      "execution_count": 625,
      "outputs": [
        {
          "output_type": "execute_result",
          "data": {
            "text/html": [
              "<div>\n",
              "<style scoped>\n",
              "    .dataframe tbody tr th:only-of-type {\n",
              "        vertical-align: middle;\n",
              "    }\n",
              "\n",
              "    .dataframe tbody tr th {\n",
              "        vertical-align: top;\n",
              "    }\n",
              "\n",
              "    .dataframe thead th {\n",
              "        text-align: right;\n",
              "    }\n",
              "</style>\n",
              "<table border=\"1\" class=\"dataframe\">\n",
              "  <thead>\n",
              "    <tr style=\"text-align: right;\">\n",
              "      <th></th>\n",
              "      <th>count</th>\n",
              "      <th>accidents</th>\n",
              "      <th>cluster_status</th>\n",
              "    </tr>\n",
              "  </thead>\n",
              "  <tbody>\n",
              "    <tr>\n",
              "      <th>0</th>\n",
              "      <td>175</td>\n",
              "      <td>{171521, 182785, 96776, 182284, 68111, 188945,...</td>\n",
              "      <td>not_evaluated</td>\n",
              "    </tr>\n",
              "    <tr>\n",
              "      <th>1</th>\n",
              "      <td>117</td>\n",
              "      <td>{124419, 53771, 53772, 206350, 206351, 45077, ...</td>\n",
              "      <td>not_evaluated</td>\n",
              "    </tr>\n",
              "    <tr>\n",
              "      <th>2</th>\n",
              "      <td>101</td>\n",
              "      <td>{48641, 155144, 51721, 155147, 155148, 155151,...</td>\n",
              "      <td>not_evaluated</td>\n",
              "    </tr>\n",
              "    <tr>\n",
              "      <th>3</th>\n",
              "      <td>92</td>\n",
              "      <td>{183808, 182810, 181278, 174111, 211497, 13162...</td>\n",
              "      <td>not_evaluated</td>\n",
              "    </tr>\n",
              "    <tr>\n",
              "      <th>4</th>\n",
              "      <td>91</td>\n",
              "      <td>{175104, 217602, 217603, 50181, 186385, 199735...</td>\n",
              "      <td>not_evaluated</td>\n",
              "    </tr>\n",
              "  </tbody>\n",
              "</table>\n",
              "</div>"
            ],
            "text/plain": [
              "   count                                          accidents cluster_status\n",
              "0    175  {171521, 182785, 96776, 182284, 68111, 188945,...  not_evaluated\n",
              "1    117  {124419, 53771, 53772, 206350, 206351, 45077, ...  not_evaluated\n",
              "2    101  {48641, 155144, 51721, 155147, 155148, 155151,...  not_evaluated\n",
              "3     92  {183808, 182810, 181278, 174111, 211497, 13162...  not_evaluated\n",
              "4     91  {175104, 217602, 217603, 50181, 186385, 199735...  not_evaluated"
            ]
          },
          "metadata": {},
          "execution_count": 625
        }
      ]
    },
    {
      "cell_type": "code",
      "source": [
        "# Loop through each cluster: \n",
        "for i in range(len(dataset_clusters)):\n",
        "    if i % 1000 == 0:\n",
        "      print(i)\n",
        "    # But only consider those that have not yet been evaluated:\n",
        "    if dataset_clusters['cluster_status'].iloc[i] == 'not_evaluated':\n",
        "        # The current cluster (as dataset_clusters is sorted in descending order) is the most repeated cluster of those possible around an intersection.\n",
        "        # If there are clusters (sets) down the road (>i) that share some accidents with the current cluster, such clusters are not the core for the \n",
        "        # intersection as they were observed fewer times. Let's label the current cluster as a 'core_cluster'.\n",
        "        dataset_clusters.at[i, 'cluster_status'] = 'core_cluster'\n",
        "\n",
        "        # In the next lines, we are going to find those clusters and label them as 'not_core_cluster':\n",
        "\n",
        "        # Store the current cluster for subsequent comparisons with other clusters\n",
        "        current_cluster = dataset_clusters['accidents'].iloc[i]\n",
        "\n",
        "        # In order to reduce computational complexity, we\n",
        "        # filter the clusters that have not yet been evaluated in any loop and that are > i\n",
        "        filtered_clusters_df = dataset_clusters.loc[(dataset_clusters.index > i) & (dataset_clusters['cluster_status'] == 'not_evaluated')].copy()\n",
        "        # The following list comprehension outputs the positions (indexes) in filtered_clusters_df of the clusters that intersect with the current cluster. \n",
        "        indexes_clusters_intersecting = [filtered_clusters_df.index[cluster_index] for cluster_index,cluster_candidate in enumerate(filtered_clusters_df['accidents']) if current_cluster.intersection(cluster_candidate)]\n",
        "        for idx in indexes_clusters_intersecting:\n",
        "            dataset_clusters.at[idx, 'cluster_status'] = 'not_core_cluster'\n",
        "        del current_cluster,filtered_clusters_df,indexes_clusters_intersecting\n",
        "\n",
        "    # Get only indices of those that have intersection. \n",
        "    # map these indices back to the original one. \n",
        "\n",
        "   \n"
      ],
      "metadata": {
        "colab": {
          "base_uri": "https://localhost:8080/"
        },
        "id": "tmP_Z3_CLO1x",
        "outputId": "dfa1ef23-f351-462a-98bd-681b034c7ef7"
      },
      "execution_count": 626,
      "outputs": [
        {
          "output_type": "stream",
          "name": "stdout",
          "text": [
            "0\n",
            "1000\n",
            "2000\n",
            "3000\n",
            "4000\n",
            "5000\n",
            "6000\n",
            "7000\n",
            "8000\n",
            "9000\n",
            "10000\n",
            "11000\n",
            "12000\n",
            "13000\n",
            "14000\n",
            "15000\n",
            "16000\n",
            "17000\n",
            "18000\n",
            "19000\n",
            "20000\n",
            "21000\n",
            "22000\n",
            "23000\n",
            "24000\n",
            "25000\n",
            "26000\n",
            "27000\n",
            "28000\n",
            "29000\n",
            "30000\n",
            "31000\n",
            "32000\n",
            "33000\n",
            "34000\n"
          ]
        }
      ]
    },
    {
      "cell_type": "code",
      "source": [
        "from copy import deepcopy\n",
        "dataset_clusters_backup = deepcopy(dataset_clusters)"
      ],
      "metadata": {
        "id": "iqodFX1WTT6s"
      },
      "execution_count": 627,
      "outputs": []
    },
    {
      "cell_type": "code",
      "source": [
        "path = '/content/drive/MyDrive/datasets_pickle/'\n",
        "pickle_out = open(path + \"dataset_clusters.pickle\", \"wb\")\n",
        "pickle.dump(dataset_clusters,pickle_out)\n",
        "pickle_out.close()\n"
      ],
      "metadata": {
        "id": "pt4vVz7btv5r"
      },
      "execution_count": 628,
      "outputs": []
    },
    {
      "cell_type": "code",
      "source": [
        "dataset_clusters['cluster_status'].value_counts()"
      ],
      "metadata": {
        "colab": {
          "base_uri": "https://localhost:8080/"
        },
        "id": "Lb2Oat-JPB9M",
        "outputId": "9cf7c74b-0167-4a94-983a-5fe16d781909"
      },
      "execution_count": 629,
      "outputs": [
        {
          "output_type": "execute_result",
          "data": {
            "text/plain": [
              "core_cluster        31445\n",
              "not_core_cluster     3244\n",
              "Name: cluster_status, dtype: int64"
            ]
          },
          "metadata": {},
          "execution_count": 629
        }
      ]
    },
    {
      "cell_type": "code",
      "source": [
        "all_accidents_df.info()"
      ],
      "metadata": {
        "colab": {
          "base_uri": "https://localhost:8080/"
        },
        "id": "tUpKs5-hO19I",
        "outputId": "238c63a7-4ac1-47ef-8b09-4c2213fd513f"
      },
      "execution_count": 630,
      "outputs": [
        {
          "output_type": "stream",
          "name": "stdout",
          "text": [
            "<class 'pandas.core.frame.DataFrame'>\n",
            "RangeIndex: 219539 entries, 0 to 219538\n",
            "Data columns (total 14 columns):\n",
            " #   Column                Non-Null Count   Dtype  \n",
            "---  ------                --------------   -----  \n",
            " 0   State                 219539 non-null  object \n",
            " 1   County                219539 non-null  object \n",
            " 2   City                  219527 non-null  object \n",
            " 3   num_vehicles          33859 non-null   float64\n",
            " 4   Latitude              219539 non-null  float64\n",
            " 5   Longitude             219539 non-null  float64\n",
            " 6   Intersection_status   33859 non-null   object \n",
            " 7   Intersection_type     33859 non-null   object \n",
            " 8   number_of_fatalities  33859 non-null   float64\n",
            " 9   DATE_TIME             219453 non-null  object \n",
            " 10  origin_dataset        219539 non-null  object \n",
            " 11  Crossing              185680 non-null  object \n",
            " 12  Traffic_Signal        185680 non-null  object \n",
            " 13  Stop                  185680 non-null  object \n",
            "dtypes: float64(4), object(10)\n",
            "memory usage: 23.4+ MB\n"
          ]
        }
      ]
    },
    {
      "cell_type": "code",
      "source": [
        "# Probably this step is unnecessary:\n",
        "\n",
        "dataset_clusters=dataset_clusters.assign(Latitude='not_available')\n",
        "dataset_clusters=dataset_clusters.assign(Longitude='not_available')\n",
        "\n"
      ],
      "metadata": {
        "id": "l7NMHb04SwCM"
      },
      "execution_count": 631,
      "outputs": []
    },
    {
      "cell_type": "code",
      "source": [
        "# Now, let's output a simple dataset that allows us to make a fast plot with plotly.\n",
        "\n",
        "for i in range(len(dataset_clusters)):\n",
        "    current_accidents = list(dataset_clusters['accidents'].iloc[i])\n",
        "    dataset_clusters.at[i,'Latitude'] = np.mean([all_accidents_df['Latitude'].iloc[accident_ID] for accident_ID in current_accidents])\n",
        "    dataset_clusters.at[i,'Longitude'] = np.mean([all_accidents_df['Longitude'].iloc[accident_ID] for accident_ID in current_accidents])\n",
        "    dataset_clusters.at[i,'num_accidents_fatalities'] = np.sum([1 for accident_ID in current_accidents if all_accidents_df['origin_dataset'].iloc[accident_ID] == 'fatalities_reported'])\n"
      ],
      "metadata": {
        "id": "VGPjj6MKNKga"
      },
      "execution_count": 632,
      "outputs": []
    },
    {
      "cell_type": "code",
      "source": [
        "# Checking if all clusters were assigned latitude and longitude coordinates. \n",
        "(dataset_clusters['Latitude'] == 'not_available').any(),(dataset_clusters['Longitude'] == 'not_available').any()"
      ],
      "metadata": {
        "colab": {
          "base_uri": "https://localhost:8080/"
        },
        "id": "PX77hgpUNMfq",
        "outputId": "59749d8e-b6ef-4dcf-ff91-779136c3456d"
      },
      "execution_count": 633,
      "outputs": [
        {
          "output_type": "execute_result",
          "data": {
            "text/plain": [
              "(False, False)"
            ]
          },
          "metadata": {},
          "execution_count": 633
        }
      ]
    },
    {
      "cell_type": "code",
      "source": [
        "dataset_clusters['num_accidents_fatalities'].max()"
      ],
      "metadata": {
        "colab": {
          "base_uri": "https://localhost:8080/"
        },
        "id": "TT5vehzWb3gm",
        "outputId": "7f85d99c-f3f9-4e8b-ade9-e5e6d0e745bc"
      },
      "execution_count": 634,
      "outputs": [
        {
          "output_type": "execute_result",
          "data": {
            "text/plain": [
              "19.0"
            ]
          },
          "metadata": {},
          "execution_count": 634
        }
      ]
    },
    {
      "cell_type": "code",
      "source": [
        "# Add the ratio num_fatalities/count in a new column. "
      ],
      "metadata": {
        "id": "Pv4Dlq8NkU9R"
      },
      "execution_count": null,
      "outputs": []
    },
    {
      "cell_type": "code",
      "source": [
        "# Remove clusters that are not core clusters:\n",
        "dataset_clusters = dataset_clusters[dataset_clusters['cluster_status']=='core_cluster']\n",
        "dataset_clusters"
      ],
      "metadata": {
        "colab": {
          "base_uri": "https://localhost:8080/",
          "height": 419
        },
        "id": "stSB3o56l-kw",
        "outputId": "a876b802-bc6e-4a6f-bc2f-8639345db380"
      },
      "execution_count": 635,
      "outputs": [
        {
          "output_type": "execute_result",
          "data": {
            "text/html": [
              "<div>\n",
              "<style scoped>\n",
              "    .dataframe tbody tr th:only-of-type {\n",
              "        vertical-align: middle;\n",
              "    }\n",
              "\n",
              "    .dataframe tbody tr th {\n",
              "        vertical-align: top;\n",
              "    }\n",
              "\n",
              "    .dataframe thead th {\n",
              "        text-align: right;\n",
              "    }\n",
              "</style>\n",
              "<table border=\"1\" class=\"dataframe\">\n",
              "  <thead>\n",
              "    <tr style=\"text-align: right;\">\n",
              "      <th></th>\n",
              "      <th>count</th>\n",
              "      <th>accidents</th>\n",
              "      <th>cluster_status</th>\n",
              "      <th>Latitude</th>\n",
              "      <th>Longitude</th>\n",
              "      <th>num_accidents_fatalities</th>\n",
              "    </tr>\n",
              "  </thead>\n",
              "  <tbody>\n",
              "    <tr>\n",
              "      <th>0</th>\n",
              "      <td>175</td>\n",
              "      <td>{171521, 182785, 96776, 182284, 68111, 188945,...</td>\n",
              "      <td>core_cluster</td>\n",
              "      <td>37.8083</td>\n",
              "      <td>-122.367</td>\n",
              "      <td>0.0</td>\n",
              "    </tr>\n",
              "    <tr>\n",
              "      <th>1</th>\n",
              "      <td>117</td>\n",
              "      <td>{124419, 53771, 53772, 206350, 206351, 45077, ...</td>\n",
              "      <td>core_cluster</td>\n",
              "      <td>35.2025</td>\n",
              "      <td>-80.726</td>\n",
              "      <td>0.0</td>\n",
              "    </tr>\n",
              "    <tr>\n",
              "      <th>2</th>\n",
              "      <td>101</td>\n",
              "      <td>{48641, 155144, 51721, 155147, 155148, 155151,...</td>\n",
              "      <td>core_cluster</td>\n",
              "      <td>37.1702</td>\n",
              "      <td>-121.99</td>\n",
              "      <td>0.0</td>\n",
              "    </tr>\n",
              "    <tr>\n",
              "      <th>3</th>\n",
              "      <td>92</td>\n",
              "      <td>{183808, 182810, 181278, 174111, 211497, 13162...</td>\n",
              "      <td>core_cluster</td>\n",
              "      <td>34.0099</td>\n",
              "      <td>-117.823</td>\n",
              "      <td>0.0</td>\n",
              "    </tr>\n",
              "    <tr>\n",
              "      <th>4</th>\n",
              "      <td>91</td>\n",
              "      <td>{175104, 217602, 217603, 50181, 186385, 199735...</td>\n",
              "      <td>core_cluster</td>\n",
              "      <td>38.1552</td>\n",
              "      <td>-121.676</td>\n",
              "      <td>0.0</td>\n",
              "    </tr>\n",
              "    <tr>\n",
              "      <th>...</th>\n",
              "      <td>...</td>\n",
              "      <td>...</td>\n",
              "      <td>...</td>\n",
              "      <td>...</td>\n",
              "      <td>...</td>\n",
              "      <td>...</td>\n",
              "    </tr>\n",
              "    <tr>\n",
              "      <th>34639</th>\n",
              "      <td>1</td>\n",
              "      <td>{144899, 26215}</td>\n",
              "      <td>core_cluster</td>\n",
              "      <td>37.7844</td>\n",
              "      <td>-122.473</td>\n",
              "      <td>1.0</td>\n",
              "    </tr>\n",
              "    <tr>\n",
              "      <th>34645</th>\n",
              "      <td>1</td>\n",
              "      <td>{66512, 70448, 101320, 82991}</td>\n",
              "      <td>core_cluster</td>\n",
              "      <td>32.6747</td>\n",
              "      <td>-96.8223</td>\n",
              "      <td>0.0</td>\n",
              "    </tr>\n",
              "    <tr>\n",
              "      <th>34647</th>\n",
              "      <td>1</td>\n",
              "      <td>{76900, 201013}</td>\n",
              "      <td>core_cluster</td>\n",
              "      <td>39.0517</td>\n",
              "      <td>-77.0751</td>\n",
              "      <td>0.0</td>\n",
              "    </tr>\n",
              "    <tr>\n",
              "      <th>34670</th>\n",
              "      <td>1</td>\n",
              "      <td>{46468, 46469}</td>\n",
              "      <td>core_cluster</td>\n",
              "      <td>41.9002</td>\n",
              "      <td>-87.6242</td>\n",
              "      <td>0.0</td>\n",
              "    </tr>\n",
              "    <tr>\n",
              "      <th>34682</th>\n",
              "      <td>1</td>\n",
              "      <td>{76758, 80367}</td>\n",
              "      <td>core_cluster</td>\n",
              "      <td>35.8622</td>\n",
              "      <td>-78.6951</td>\n",
              "      <td>0.0</td>\n",
              "    </tr>\n",
              "  </tbody>\n",
              "</table>\n",
              "<p>31445 rows × 6 columns</p>\n",
              "</div>"
            ],
            "text/plain": [
              "       count  ... num_accidents_fatalities\n",
              "0        175  ...                      0.0\n",
              "1        117  ...                      0.0\n",
              "2        101  ...                      0.0\n",
              "3         92  ...                      0.0\n",
              "4         91  ...                      0.0\n",
              "...      ...  ...                      ...\n",
              "34639      1  ...                      1.0\n",
              "34645      1  ...                      0.0\n",
              "34647      1  ...                      0.0\n",
              "34670      1  ...                      0.0\n",
              "34682      1  ...                      0.0\n",
              "\n",
              "[31445 rows x 6 columns]"
            ]
          },
          "metadata": {},
          "execution_count": 635
        }
      ]
    },
    {
      "cell_type": "code",
      "source": [
        ""
      ],
      "metadata": {
        "colab": {
          "base_uri": "https://localhost:8080/"
        },
        "id": "4uANiLU98RNc",
        "outputId": "a0805400-625d-49ba-86dc-36ac7f8fd2da"
      },
      "execution_count": 511,
      "outputs": [
        {
          "output_type": "execute_result",
          "data": {
            "text/plain": [
              "4"
            ]
          },
          "metadata": {},
          "execution_count": 511
        }
      ]
    },
    {
      "cell_type": "code",
      "source": [
        "# There is a problem with the counts that I will have to review later. In the meantime, I am going to take as a reference the number of accidents in a cluster and not the official count. \n",
        "dataset_clusters['count'] = dataset_clusters['accidents'].apply(lambda x: len(x))"
      ],
      "metadata": {
        "id": "1HLeTwZKsazr"
      },
      "execution_count": 646,
      "outputs": []
    },
    {
      "cell_type": "code",
      "source": [
        "# Let's store now, for each intersection, the city, county and \n",
        "dataset_clusters.reset_index(drop=True,inplace=True)\n"
      ],
      "metadata": {
        "id": "wwS-gaN-8fRS"
      },
      "execution_count": 638,
      "outputs": []
    },
    {
      "cell_type": "code",
      "source": [
        "from copy import deepcopy\n",
        "dataset_clusters_backup = deepcopy(dataset_clusters)"
      ],
      "metadata": {
        "id": "TIQKDxQYUd5e"
      },
      "execution_count": 640,
      "outputs": []
    },
    {
      "cell_type": "code",
      "source": [
        "for i,cluster in enumerate(dataset_clusters['accidents']):\n",
        "  dataset_clusters.at[i,'State'] = all_accidents_df['State'].iloc[list(cluster)[0]] \n",
        "  dataset_clusters.at[i,'County'] = all_accidents_df['County'].iloc[list(cluster)[0]] \n",
        "  dataset_clusters.at[i,'City'] = all_accidents_df['City'].iloc[list(cluster)[0]] \n",
        "\n",
        "\n",
        "  "
      ],
      "metadata": {
        "id": "oHOTBb4D8fXh"
      },
      "execution_count": 641,
      "outputs": []
    },
    {
      "cell_type": "code",
      "source": [
        "del dataset_clusters['cluster_status'] # There must be a better way to do it. "
      ],
      "metadata": {
        "id": "kNmkO0heRFgX"
      },
      "execution_count": 652,
      "outputs": []
    },
    {
      "cell_type": "code",
      "source": [
        "# This creates a new column with the fatalities ratio\n",
        "\n",
        "dataset_clusters['fatalities_ratio'] = dataset_clusters['num_accidents_fatalities']/dataset_clusters['count_updated']"
      ],
      "metadata": {
        "id": "m4YtGmgvdjYQ"
      },
      "execution_count": 645,
      "outputs": []
    },
    {
      "cell_type": "code",
      "source": [
        "# Save dataset_clusters:\n",
        "\n",
        "dataset_clusters.to_csv('dataset_clusters.csv', index = True) # Removes index and header for insertion into SQL databse"
      ],
      "metadata": {
        "id": "JJOsokV1djgD"
      },
      "execution_count": 654,
      "outputs": []
    },
    {
      "cell_type": "code",
      "source": [
        "dataset_clusters"
      ],
      "metadata": {
        "colab": {
          "base_uri": "https://localhost:8080/",
          "height": 419
        },
        "id": "2MgjGhb-9MW-",
        "outputId": "9a550d83-de60-4ee8-aeb3-f685ba1f54e7"
      },
      "execution_count": 653,
      "outputs": [
        {
          "output_type": "execute_result",
          "data": {
            "text/html": [
              "<div>\n",
              "<style scoped>\n",
              "    .dataframe tbody tr th:only-of-type {\n",
              "        vertical-align: middle;\n",
              "    }\n",
              "\n",
              "    .dataframe tbody tr th {\n",
              "        vertical-align: top;\n",
              "    }\n",
              "\n",
              "    .dataframe thead th {\n",
              "        text-align: right;\n",
              "    }\n",
              "</style>\n",
              "<table border=\"1\" class=\"dataframe\">\n",
              "  <thead>\n",
              "    <tr style=\"text-align: right;\">\n",
              "      <th></th>\n",
              "      <th>count</th>\n",
              "      <th>accidents</th>\n",
              "      <th>Latitude</th>\n",
              "      <th>Longitude</th>\n",
              "      <th>num_accidents_fatalities</th>\n",
              "      <th>State</th>\n",
              "      <th>County</th>\n",
              "      <th>City</th>\n",
              "      <th>fatalities_ratio</th>\n",
              "    </tr>\n",
              "  </thead>\n",
              "  <tbody>\n",
              "    <tr>\n",
              "      <th>0</th>\n",
              "      <td>175</td>\n",
              "      <td>{171521, 182785, 96776, 182284, 68111, 188945,...</td>\n",
              "      <td>37.8083</td>\n",
              "      <td>-122.367</td>\n",
              "      <td>0.0</td>\n",
              "      <td>California</td>\n",
              "      <td>San Francisco</td>\n",
              "      <td>San Francisco</td>\n",
              "      <td>0.0</td>\n",
              "    </tr>\n",
              "    <tr>\n",
              "      <th>1</th>\n",
              "      <td>117</td>\n",
              "      <td>{124419, 53771, 53772, 206350, 206351, 45077, ...</td>\n",
              "      <td>35.2025</td>\n",
              "      <td>-80.726</td>\n",
              "      <td>0.0</td>\n",
              "      <td>North Carolina</td>\n",
              "      <td>Mecklenburg</td>\n",
              "      <td>Charlotte</td>\n",
              "      <td>0.0</td>\n",
              "    </tr>\n",
              "    <tr>\n",
              "      <th>2</th>\n",
              "      <td>101</td>\n",
              "      <td>{48641, 155144, 51721, 155147, 155148, 155151,...</td>\n",
              "      <td>37.1702</td>\n",
              "      <td>-121.99</td>\n",
              "      <td>0.0</td>\n",
              "      <td>California</td>\n",
              "      <td>Santa Clara</td>\n",
              "      <td>Los Gatos</td>\n",
              "      <td>0.0</td>\n",
              "    </tr>\n",
              "    <tr>\n",
              "      <th>3</th>\n",
              "      <td>98</td>\n",
              "      <td>{183808, 182810, 181278, 174111, 211497, 13162...</td>\n",
              "      <td>34.0099</td>\n",
              "      <td>-117.823</td>\n",
              "      <td>0.0</td>\n",
              "      <td>California</td>\n",
              "      <td>Los Angeles</td>\n",
              "      <td>Diamond Bar</td>\n",
              "      <td>0.0</td>\n",
              "    </tr>\n",
              "    <tr>\n",
              "      <th>4</th>\n",
              "      <td>91</td>\n",
              "      <td>{175104, 217602, 217603, 50181, 186385, 199735...</td>\n",
              "      <td>38.1552</td>\n",
              "      <td>-121.676</td>\n",
              "      <td>0.0</td>\n",
              "      <td>California</td>\n",
              "      <td>Sacramento</td>\n",
              "      <td>Isleton</td>\n",
              "      <td>0.0</td>\n",
              "    </tr>\n",
              "    <tr>\n",
              "      <th>...</th>\n",
              "      <td>...</td>\n",
              "      <td>...</td>\n",
              "      <td>...</td>\n",
              "      <td>...</td>\n",
              "      <td>...</td>\n",
              "      <td>...</td>\n",
              "      <td>...</td>\n",
              "      <td>...</td>\n",
              "      <td>...</td>\n",
              "    </tr>\n",
              "    <tr>\n",
              "      <th>31440</th>\n",
              "      <td>2</td>\n",
              "      <td>{144899, 26215}</td>\n",
              "      <td>37.7844</td>\n",
              "      <td>-122.473</td>\n",
              "      <td>1.0</td>\n",
              "      <td>California</td>\n",
              "      <td>San Francisco</td>\n",
              "      <td>San Francisco</td>\n",
              "      <td>0.5</td>\n",
              "    </tr>\n",
              "    <tr>\n",
              "      <th>31441</th>\n",
              "      <td>4</td>\n",
              "      <td>{66512, 70448, 101320, 82991}</td>\n",
              "      <td>32.6747</td>\n",
              "      <td>-96.8223</td>\n",
              "      <td>0.0</td>\n",
              "      <td>Texas</td>\n",
              "      <td>Dallas</td>\n",
              "      <td>Dallas</td>\n",
              "      <td>0.0</td>\n",
              "    </tr>\n",
              "    <tr>\n",
              "      <th>31442</th>\n",
              "      <td>2</td>\n",
              "      <td>{76900, 201013}</td>\n",
              "      <td>39.0517</td>\n",
              "      <td>-77.0751</td>\n",
              "      <td>0.0</td>\n",
              "      <td>Maryland</td>\n",
              "      <td>Montgomery</td>\n",
              "      <td>Silver Spring</td>\n",
              "      <td>0.0</td>\n",
              "    </tr>\n",
              "    <tr>\n",
              "      <th>31443</th>\n",
              "      <td>2</td>\n",
              "      <td>{46468, 46469}</td>\n",
              "      <td>41.9002</td>\n",
              "      <td>-87.6242</td>\n",
              "      <td>0.0</td>\n",
              "      <td>Illinois</td>\n",
              "      <td>Cook</td>\n",
              "      <td>Chicago</td>\n",
              "      <td>0.0</td>\n",
              "    </tr>\n",
              "    <tr>\n",
              "      <th>31444</th>\n",
              "      <td>2</td>\n",
              "      <td>{76758, 80367}</td>\n",
              "      <td>35.8622</td>\n",
              "      <td>-78.6951</td>\n",
              "      <td>0.0</td>\n",
              "      <td>North Carolina</td>\n",
              "      <td>Wake</td>\n",
              "      <td>Raleigh</td>\n",
              "      <td>0.0</td>\n",
              "    </tr>\n",
              "  </tbody>\n",
              "</table>\n",
              "<p>31445 rows × 9 columns</p>\n",
              "</div>"
            ],
            "text/plain": [
              "       count  ... fatalities_ratio\n",
              "0        175  ...              0.0\n",
              "1        117  ...              0.0\n",
              "2        101  ...              0.0\n",
              "3         98  ...              0.0\n",
              "4         91  ...              0.0\n",
              "...      ...  ...              ...\n",
              "31440      2  ...              0.5\n",
              "31441      4  ...              0.0\n",
              "31442      2  ...              0.0\n",
              "31443      2  ...              0.0\n",
              "31444      2  ...              0.0\n",
              "\n",
              "[31445 rows x 9 columns]"
            ]
          },
          "metadata": {},
          "execution_count": 653
        }
      ]
    },
    {
      "cell_type": "code",
      "source": [
        "# To avoid disconnection:\n",
        "while True:pass"
      ],
      "metadata": {
        "id": "7hrNXtPkqNj0"
      },
      "execution_count": null,
      "outputs": []
    },
    {
      "cell_type": "code",
      "source": [
        ""
      ],
      "metadata": {
        "id": "6yWm5N51sMK7"
      },
      "execution_count": null,
      "outputs": []
    }
  ]
}